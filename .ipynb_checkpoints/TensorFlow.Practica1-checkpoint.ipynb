{
 "cells": [
  {
   "cell_type": "markdown",
   "metadata": {},
   "source": [
    "## Statistical Learning I\n",
    "## Erick J. Pineda Amézquita\n",
    "## 17012140\n"
   ]
  },
  {
   "cell_type": "markdown",
   "metadata": {},
   "source": [
    "**Descripción de este ejercicio:**     \n",
    "\n",
    "Desarrollar el proceso de regresión lineal y escoger el mejor modelo aplicando **TensorFlow** con **GradientDescent**, también graficar el comportamiento del error o la curva de aprendizaje en función del tiempo por medio de **TensorBoard**.  \n",
    "Utilizar el archivo de datos *\"proyecto_training_data.npy\"* para predecir el precio de casas, el cual consta de seis variables:\n",
    " * SalePrice\t\n",
    " * OverallQual\t\n",
    " * FirstFloor\t\n",
    " * TotRmsAbvGrd\t\n",
    " * YearBuilt\t\n",
    " * LotFrontage\n",
    "\n",
    "\n",
    "*Observaciones:*  \n",
    "Para este ejercicio se utilizará la variable \"SalePrice\" para el valor a predecir \"y\".\n",
    "El modelo es de una sola variable, por lo que se utilizará \"OverallQual\" como variable independiente.\n",
    "\n",
    "**Recordar los siguientes conceptos:**  \n",
    "\n",
    "Regresión Lineal:  \n",
    "![Regresión Lineal](img/funcionLineal.JPG)  \n",
    "\n",
    "\n",
    "\n",
    "\n",
    "\n",
    "Función de costo:   \n",
    "![Función de costo](img/funcionCosto.JPG)   \n",
    "\n",
    "\n",
    "\n",
    "\n",
    "Algoritmo GradientDescent\n",
    "![GradientDescent](img/AlgoritmoGradientDescent.JPG)   \n",
    "\n",
    "\n",
    "Algoritmo GradientDescent con resultado de derivadas parciales para el modelo de regresión lineal θj\\*Xj + θi\\*Xi  \n",
    "\n",
    "![GradientDescent](img/gdParametros.JPG)   \n"
   ]
  },
  {
   "cell_type": "markdown",
   "metadata": {},
   "source": [
    "### Analisis exploratorio\n",
    "Importar librerías y carga de datos"
   ]
  },
  {
   "cell_type": "code",
   "execution_count": 2,
   "metadata": {},
   "outputs": [],
   "source": [
    "import numpy as np\n",
    "import pandas as pd\n",
    "\n",
    "import tensorflow as tf \n",
    "import matplotlib.pyplot as plt "
   ]
  },
  {
   "cell_type": "markdown",
   "metadata": {},
   "source": [
    "Extracción de los datos y separación a partir del archivo .npy\n",
    "\n"
   ]
  },
  {
   "cell_type": "code",
   "execution_count": 144,
   "metadata": {},
   "outputs": [
    {
     "name": "stdout",
     "output_type": "stream",
     "text": [
      "Cantidad de datos para ENTRENAMIENTO:    1168\n",
      "Cantidad de datos para VALIDACION:       292\n"
     ]
    }
   ],
   "source": [
    "origenDeDatos = np.load('dataset/proyecto_training_data.npy')\n",
    "\n",
    "### Separación de los datos en 80% y 20%\n",
    "numDatosEntrenamiento=int(0.8*origenDeDatos.shape[0])\n",
    "print(\"Cantidad de datos para ENTRENAMIENTO:   \", numDatosEntrenamiento)\n",
    "\n",
    "numDatosValidacion=int(0.2*origenDeDatos.shape[0])\n",
    "print(\"Cantidad de datos para VALIDACION:      \", numDatosValidacion)"
   ]
  },
  {
   "cell_type": "markdown",
   "metadata": {},
   "source": [
    "Creación de Data Frames"
   ]
  },
  {
   "cell_type": "code",
   "execution_count": 5,
   "metadata": {},
   "outputs": [
    {
     "name": "stdout",
     "output_type": "stream",
     "text": [
      "Data Frame de Entrenamiento:    (1168, 6)\n",
      "Data Frame de Validacion:       (292, 6)\n"
     ]
    }
   ],
   "source": [
    "dfEntrenamiento = pd.DataFrame(origenDeDatos[:numDatosEntrenamiento])\n",
    "dfEntrenamiento.columns = [\"SalePrice\", \"Overall\", \"Floor\", \"Rooms\", \"Year\", \"Front\"]\n",
    "\n",
    "dfValidacion = pd.DataFrame(origenDeDatos[numDatosEntrenamiento:])\n",
    "dfValidacion.columns = [\"SalePrice\", \"Overall\", \"Floor\", \"Rooms\", \"Year\", \"Front\"]\n",
    "\n",
    "print(\"Data Frame de Entrenamiento:   \",dfEntrenamiento.shape)\n",
    "print(\"Data Frame de Validacion:      \",dfValidacion.shape)\n"
   ]
  },
  {
   "cell_type": "markdown",
   "metadata": {},
   "source": [
    "Ejemplo de 10 filas para conocer cómo viene la información"
   ]
  },
  {
   "cell_type": "code",
   "execution_count": 6,
   "metadata": {},
   "outputs": [
    {
     "data": {
      "text/html": [
       "<div>\n",
       "<style scoped>\n",
       "    .dataframe tbody tr th:only-of-type {\n",
       "        vertical-align: middle;\n",
       "    }\n",
       "\n",
       "    .dataframe tbody tr th {\n",
       "        vertical-align: top;\n",
       "    }\n",
       "\n",
       "    .dataframe thead th {\n",
       "        text-align: right;\n",
       "    }\n",
       "</style>\n",
       "<table border=\"1\" class=\"dataframe\">\n",
       "  <thead>\n",
       "    <tr style=\"text-align: right;\">\n",
       "      <th></th>\n",
       "      <th>SalePrice</th>\n",
       "      <th>Overall</th>\n",
       "      <th>Floor</th>\n",
       "      <th>Rooms</th>\n",
       "      <th>Year</th>\n",
       "      <th>Front</th>\n",
       "    </tr>\n",
       "  </thead>\n",
       "  <tbody>\n",
       "    <tr>\n",
       "      <th>0</th>\n",
       "      <td>208500.0</td>\n",
       "      <td>7.0</td>\n",
       "      <td>856.0</td>\n",
       "      <td>8.0</td>\n",
       "      <td>2003.0</td>\n",
       "      <td>65.0</td>\n",
       "    </tr>\n",
       "    <tr>\n",
       "      <th>1</th>\n",
       "      <td>181500.0</td>\n",
       "      <td>6.0</td>\n",
       "      <td>1262.0</td>\n",
       "      <td>6.0</td>\n",
       "      <td>1976.0</td>\n",
       "      <td>80.0</td>\n",
       "    </tr>\n",
       "    <tr>\n",
       "      <th>2</th>\n",
       "      <td>223500.0</td>\n",
       "      <td>7.0</td>\n",
       "      <td>920.0</td>\n",
       "      <td>6.0</td>\n",
       "      <td>2001.0</td>\n",
       "      <td>68.0</td>\n",
       "    </tr>\n",
       "    <tr>\n",
       "      <th>3</th>\n",
       "      <td>140000.0</td>\n",
       "      <td>7.0</td>\n",
       "      <td>961.0</td>\n",
       "      <td>7.0</td>\n",
       "      <td>1915.0</td>\n",
       "      <td>60.0</td>\n",
       "    </tr>\n",
       "    <tr>\n",
       "      <th>4</th>\n",
       "      <td>250000.0</td>\n",
       "      <td>8.0</td>\n",
       "      <td>1145.0</td>\n",
       "      <td>9.0</td>\n",
       "      <td>2000.0</td>\n",
       "      <td>84.0</td>\n",
       "    </tr>\n",
       "    <tr>\n",
       "      <th>5</th>\n",
       "      <td>143000.0</td>\n",
       "      <td>5.0</td>\n",
       "      <td>796.0</td>\n",
       "      <td>5.0</td>\n",
       "      <td>1993.0</td>\n",
       "      <td>85.0</td>\n",
       "    </tr>\n",
       "    <tr>\n",
       "      <th>6</th>\n",
       "      <td>307000.0</td>\n",
       "      <td>8.0</td>\n",
       "      <td>1694.0</td>\n",
       "      <td>7.0</td>\n",
       "      <td>2004.0</td>\n",
       "      <td>75.0</td>\n",
       "    </tr>\n",
       "    <tr>\n",
       "      <th>7</th>\n",
       "      <td>200000.0</td>\n",
       "      <td>7.0</td>\n",
       "      <td>1107.0</td>\n",
       "      <td>7.0</td>\n",
       "      <td>1973.0</td>\n",
       "      <td>NaN</td>\n",
       "    </tr>\n",
       "    <tr>\n",
       "      <th>8</th>\n",
       "      <td>129900.0</td>\n",
       "      <td>7.0</td>\n",
       "      <td>1022.0</td>\n",
       "      <td>8.0</td>\n",
       "      <td>1931.0</td>\n",
       "      <td>51.0</td>\n",
       "    </tr>\n",
       "    <tr>\n",
       "      <th>9</th>\n",
       "      <td>118000.0</td>\n",
       "      <td>5.0</td>\n",
       "      <td>1077.0</td>\n",
       "      <td>5.0</td>\n",
       "      <td>1939.0</td>\n",
       "      <td>50.0</td>\n",
       "    </tr>\n",
       "  </tbody>\n",
       "</table>\n",
       "</div>"
      ],
      "text/plain": [
       "   SalePrice  Overall   Floor  Rooms    Year  Front\n",
       "0   208500.0      7.0   856.0    8.0  2003.0   65.0\n",
       "1   181500.0      6.0  1262.0    6.0  1976.0   80.0\n",
       "2   223500.0      7.0   920.0    6.0  2001.0   68.0\n",
       "3   140000.0      7.0   961.0    7.0  1915.0   60.0\n",
       "4   250000.0      8.0  1145.0    9.0  2000.0   84.0\n",
       "5   143000.0      5.0   796.0    5.0  1993.0   85.0\n",
       "6   307000.0      8.0  1694.0    7.0  2004.0   75.0\n",
       "7   200000.0      7.0  1107.0    7.0  1973.0    NaN\n",
       "8   129900.0      7.0  1022.0    8.0  1931.0   51.0\n",
       "9   118000.0      5.0  1077.0    5.0  1939.0   50.0"
      ]
     },
     "execution_count": 6,
     "metadata": {},
     "output_type": "execute_result"
    }
   ],
   "source": [
    "dfEntrenamiento.head(10)"
   ]
  },
  {
   "cell_type": "markdown",
   "metadata": {},
   "source": [
    "Conociendo los valores estadísticos:"
   ]
  },
  {
   "cell_type": "code",
   "execution_count": 7,
   "metadata": {},
   "outputs": [
    {
     "data": {
      "text/html": [
       "<div>\n",
       "<style scoped>\n",
       "    .dataframe tbody tr th:only-of-type {\n",
       "        vertical-align: middle;\n",
       "    }\n",
       "\n",
       "    .dataframe tbody tr th {\n",
       "        vertical-align: top;\n",
       "    }\n",
       "\n",
       "    .dataframe thead th {\n",
       "        text-align: right;\n",
       "    }\n",
       "</style>\n",
       "<table border=\"1\" class=\"dataframe\">\n",
       "  <thead>\n",
       "    <tr style=\"text-align: right;\">\n",
       "      <th></th>\n",
       "      <th>SalePrice</th>\n",
       "      <th>Overall</th>\n",
       "      <th>Floor</th>\n",
       "      <th>Rooms</th>\n",
       "      <th>Year</th>\n",
       "      <th>Front</th>\n",
       "    </tr>\n",
       "  </thead>\n",
       "  <tbody>\n",
       "    <tr>\n",
       "      <th>count</th>\n",
       "      <td>1168.000000</td>\n",
       "      <td>1168.000000</td>\n",
       "      <td>1168.000000</td>\n",
       "      <td>1168.000000</td>\n",
       "      <td>1168.000000</td>\n",
       "      <td>962.000000</td>\n",
       "    </tr>\n",
       "    <tr>\n",
       "      <th>mean</th>\n",
       "      <td>180590.277397</td>\n",
       "      <td>6.101027</td>\n",
       "      <td>1156.323630</td>\n",
       "      <td>6.485445</td>\n",
       "      <td>1971.451199</td>\n",
       "      <td>69.946985</td>\n",
       "    </tr>\n",
       "    <tr>\n",
       "      <th>std</th>\n",
       "      <td>78815.697902</td>\n",
       "      <td>1.378025</td>\n",
       "      <td>373.780374</td>\n",
       "      <td>1.609141</td>\n",
       "      <td>29.951707</td>\n",
       "      <td>23.478161</td>\n",
       "    </tr>\n",
       "    <tr>\n",
       "      <th>min</th>\n",
       "      <td>34900.000000</td>\n",
       "      <td>1.000000</td>\n",
       "      <td>334.000000</td>\n",
       "      <td>2.000000</td>\n",
       "      <td>1875.000000</td>\n",
       "      <td>21.000000</td>\n",
       "    </tr>\n",
       "    <tr>\n",
       "      <th>25%</th>\n",
       "      <td>129900.000000</td>\n",
       "      <td>5.000000</td>\n",
       "      <td>882.000000</td>\n",
       "      <td>5.000000</td>\n",
       "      <td>1954.000000</td>\n",
       "      <td>59.000000</td>\n",
       "    </tr>\n",
       "    <tr>\n",
       "      <th>50%</th>\n",
       "      <td>162950.000000</td>\n",
       "      <td>6.000000</td>\n",
       "      <td>1086.000000</td>\n",
       "      <td>6.000000</td>\n",
       "      <td>1973.000000</td>\n",
       "      <td>70.000000</td>\n",
       "    </tr>\n",
       "    <tr>\n",
       "      <th>75%</th>\n",
       "      <td>214000.000000</td>\n",
       "      <td>7.000000</td>\n",
       "      <td>1390.250000</td>\n",
       "      <td>7.000000</td>\n",
       "      <td>2000.000000</td>\n",
       "      <td>80.000000</td>\n",
       "    </tr>\n",
       "    <tr>\n",
       "      <th>max</th>\n",
       "      <td>755000.000000</td>\n",
       "      <td>10.000000</td>\n",
       "      <td>3228.000000</td>\n",
       "      <td>14.000000</td>\n",
       "      <td>2010.000000</td>\n",
       "      <td>313.000000</td>\n",
       "    </tr>\n",
       "  </tbody>\n",
       "</table>\n",
       "</div>"
      ],
      "text/plain": [
       "           SalePrice      Overall        Floor        Rooms         Year  \\\n",
       "count    1168.000000  1168.000000  1168.000000  1168.000000  1168.000000   \n",
       "mean   180590.277397     6.101027  1156.323630     6.485445  1971.451199   \n",
       "std     78815.697902     1.378025   373.780374     1.609141    29.951707   \n",
       "min     34900.000000     1.000000   334.000000     2.000000  1875.000000   \n",
       "25%    129900.000000     5.000000   882.000000     5.000000  1954.000000   \n",
       "50%    162950.000000     6.000000  1086.000000     6.000000  1973.000000   \n",
       "75%    214000.000000     7.000000  1390.250000     7.000000  2000.000000   \n",
       "max    755000.000000    10.000000  3228.000000    14.000000  2010.000000   \n",
       "\n",
       "            Front  \n",
       "count  962.000000  \n",
       "mean    69.946985  \n",
       "std     23.478161  \n",
       "min     21.000000  \n",
       "25%     59.000000  \n",
       "50%     70.000000  \n",
       "75%     80.000000  \n",
       "max    313.000000  "
      ]
     },
     "execution_count": 7,
     "metadata": {},
     "output_type": "execute_result"
    }
   ],
   "source": [
    "dfEntrenamiento.describe()"
   ]
  },
  {
   "cell_type": "markdown",
   "metadata": {},
   "source": [
    "Analizando correlación:"
   ]
  },
  {
   "cell_type": "code",
   "execution_count": 153,
   "metadata": {},
   "outputs": [
    {
     "data": {
      "text/html": [
       "<div>\n",
       "<style scoped>\n",
       "    .dataframe tbody tr th:only-of-type {\n",
       "        vertical-align: middle;\n",
       "    }\n",
       "\n",
       "    .dataframe tbody tr th {\n",
       "        vertical-align: top;\n",
       "    }\n",
       "\n",
       "    .dataframe thead th {\n",
       "        text-align: right;\n",
       "    }\n",
       "</style>\n",
       "<table border=\"1\" class=\"dataframe\">\n",
       "  <thead>\n",
       "    <tr style=\"text-align: right;\">\n",
       "      <th></th>\n",
       "      <th>SalePrice</th>\n",
       "      <th>Overall</th>\n",
       "      <th>Floor</th>\n",
       "      <th>Rooms</th>\n",
       "      <th>Year</th>\n",
       "      <th>Front</th>\n",
       "    </tr>\n",
       "  </thead>\n",
       "  <tbody>\n",
       "    <tr>\n",
       "      <th>SalePrice</th>\n",
       "      <td>1.000000</td>\n",
       "      <td>0.793990</td>\n",
       "      <td>0.616289</td>\n",
       "      <td>0.564707</td>\n",
       "      <td>0.534171</td>\n",
       "      <td>0.363292</td>\n",
       "    </tr>\n",
       "    <tr>\n",
       "      <th>Overall</th>\n",
       "      <td>0.793990</td>\n",
       "      <td>1.000000</td>\n",
       "      <td>0.469411</td>\n",
       "      <td>0.444293</td>\n",
       "      <td>0.567313</td>\n",
       "      <td>0.242420</td>\n",
       "    </tr>\n",
       "    <tr>\n",
       "      <th>Floor</th>\n",
       "      <td>0.616289</td>\n",
       "      <td>0.469411</td>\n",
       "      <td>1.000000</td>\n",
       "      <td>0.409318</td>\n",
       "      <td>0.292074</td>\n",
       "      <td>0.417388</td>\n",
       "    </tr>\n",
       "    <tr>\n",
       "      <th>Rooms</th>\n",
       "      <td>0.564707</td>\n",
       "      <td>0.444293</td>\n",
       "      <td>0.409318</td>\n",
       "      <td>1.000000</td>\n",
       "      <td>0.122911</td>\n",
       "      <td>0.341005</td>\n",
       "    </tr>\n",
       "    <tr>\n",
       "      <th>Year</th>\n",
       "      <td>0.534171</td>\n",
       "      <td>0.567313</td>\n",
       "      <td>0.292074</td>\n",
       "      <td>0.122911</td>\n",
       "      <td>1.000000</td>\n",
       "      <td>0.121474</td>\n",
       "    </tr>\n",
       "    <tr>\n",
       "      <th>Front</th>\n",
       "      <td>0.363292</td>\n",
       "      <td>0.242420</td>\n",
       "      <td>0.417388</td>\n",
       "      <td>0.341005</td>\n",
       "      <td>0.121474</td>\n",
       "      <td>1.000000</td>\n",
       "    </tr>\n",
       "  </tbody>\n",
       "</table>\n",
       "</div>"
      ],
      "text/plain": [
       "           SalePrice   Overall     Floor     Rooms      Year     Front\n",
       "SalePrice   1.000000  0.793990  0.616289  0.564707  0.534171  0.363292\n",
       "Overall     0.793990  1.000000  0.469411  0.444293  0.567313  0.242420\n",
       "Floor       0.616289  0.469411  1.000000  0.409318  0.292074  0.417388\n",
       "Rooms       0.564707  0.444293  0.409318  1.000000  0.122911  0.341005\n",
       "Year        0.534171  0.567313  0.292074  0.122911  1.000000  0.121474\n",
       "Front       0.363292  0.242420  0.417388  0.341005  0.121474  1.000000"
      ]
     },
     "execution_count": 153,
     "metadata": {},
     "output_type": "execute_result"
    }
   ],
   "source": [
    "dfEntrenamiento.corr()"
   ]
  },
  {
   "cell_type": "markdown",
   "metadata": {},
   "source": [
    "<span style=\"color:blue\">Selección de feature **OverallQ**</span>\n",
    "\n",
    "Según la tabla anterior, la variable que tiene mayor correlación con el precio es *Overall* o *\"Calidad de acabados\"*. Por esa razón se utilizará dicha variable para realizar nuestro modelo con TensorFlow y GradientDescent"
   ]
  },
  {
   "cell_type": "markdown",
   "metadata": {},
   "source": [
    "## Aplicando producto matricial para la función de regresión lineal\n",
    "Para realizar la operación de producto entre matrices, se requiere agregar una columna de 1's con el fin de que se realice en una sola instrucción lo siguiente:  \n",
    "\n",
    "**y=m\\*x+b\\*1**  \n",
    "\n",
    "Recordando que el producto es fila por columna, por lo tanto la cantidad de elementos debe coincidir.  \n",
    "\n",
    "Producto matricial:\n",
    "![title](img/productoMatriciaAnimacion.gif)\n",
    "\n",
    "\n",
    "\n",
    "Orden de operación:  \n",
    "![title](img/matrix-multiplication2.png)\n",
    "\n",
    "Ejemplo:\n",
    "![title](img/productoMatriciaEjemplo.gif)\n",
    "\n",
    "\\* No confundir con el producto Hadamar, donde los valores de la matriz se multiplican i con i y j con j.\n",
    "\n"
   ]
  },
  {
   "cell_type": "code",
   "execution_count": 31,
   "metadata": {},
   "outputs": [
    {
     "data": {
      "text/html": [
       "<div>\n",
       "<style scoped>\n",
       "    .dataframe tbody tr th:only-of-type {\n",
       "        vertical-align: middle;\n",
       "    }\n",
       "\n",
       "    .dataframe tbody tr th {\n",
       "        vertical-align: top;\n",
       "    }\n",
       "\n",
       "    .dataframe thead th {\n",
       "        text-align: right;\n",
       "    }\n",
       "</style>\n",
       "<table border=\"1\" class=\"dataframe\">\n",
       "  <thead>\n",
       "    <tr style=\"text-align: right;\">\n",
       "      <th></th>\n",
       "      <th>Precio</th>\n",
       "      <th>Unos</th>\n",
       "    </tr>\n",
       "  </thead>\n",
       "  <tbody>\n",
       "    <tr>\n",
       "      <th>0</th>\n",
       "      <td>208500.0</td>\n",
       "      <td>1.0</td>\n",
       "    </tr>\n",
       "    <tr>\n",
       "      <th>1</th>\n",
       "      <td>181500.0</td>\n",
       "      <td>1.0</td>\n",
       "    </tr>\n",
       "    <tr>\n",
       "      <th>2</th>\n",
       "      <td>223500.0</td>\n",
       "      <td>1.0</td>\n",
       "    </tr>\n",
       "    <tr>\n",
       "      <th>3</th>\n",
       "      <td>140000.0</td>\n",
       "      <td>1.0</td>\n",
       "    </tr>\n",
       "    <tr>\n",
       "      <th>4</th>\n",
       "      <td>250000.0</td>\n",
       "      <td>1.0</td>\n",
       "    </tr>\n",
       "  </tbody>\n",
       "</table>\n",
       "</div>"
      ],
      "text/plain": [
       "     Precio  Unos\n",
       "0  208500.0   1.0\n",
       "1  181500.0   1.0\n",
       "2  223500.0   1.0\n",
       "3  140000.0   1.0\n",
       "4  250000.0   1.0"
      ]
     },
     "execution_count": 31,
     "metadata": {},
     "output_type": "execute_result"
    }
   ],
   "source": [
    "acabadosConUnos=pd.DataFrame({\n",
    "                            \"Precio\":dfEntrenamiento[\"SalePrice\"],\n",
    "                            \"Unos\":np.ones_like(dfEntrenamiento[\"SalePrice\"]),\n",
    "                            })\n",
    "\n",
    "\n",
    "acabadosConUnos.head(5)\n",
    "\n"
   ]
  },
  {
   "cell_type": "markdown",
   "metadata": {},
   "source": [
    "## TensorFlow: Asignación de variables"
   ]
  },
  {
   "cell_type": "code",
   "execution_count": 154,
   "metadata": {},
   "outputs": [
    {
     "name": "stdout",
     "output_type": "stream",
     "text": [
      "Dimensiones Variable precioVenta:  (1168, 1)\n",
      "Dimensiones Variable acabados:  (1168, 2)\n",
      "Dimensiones Variable parámetros:  (2, 1)\n",
      "\n",
      "Tipo Variable precioVenta:  <class 'tensorflow.python.framework.ops.EagerTensor'>\n",
      "Tipo Variable acabados: : <class 'tensorflow.python.framework.ops.EagerTensor'>\n",
      "Tipo Variable parámetros: : <class 'tensorflow.python.ops.resource_variable_ops.ResourceVariable'>\n"
     ]
    }
   ],
   "source": [
    "precioVenta = tf.constant(dfEntrenamiento[\"SalePrice\"], tf.float32)\n",
    "precioVenta = tf.reshape(precioVenta,[1168,1])\n",
    "acabados = tf.constant(acabadosConUnos, tf.float32)\n",
    "parametrosMB = tf.Variable(tf.random.normal([2,1]))\n",
    "\n",
    "#parametrosMB = tf.Variable([[5.0],[2]],tf.float32)  ## como vector (2 filas 1 columna)\n",
    "\n",
    "\n",
    "print(\"Dimensiones Variable precioVenta: \",precioVenta.shape)\n",
    "print(\"Dimensiones Variable acabados: \", acabados.shape)\n",
    "print(\"Dimensiones Variable parámetros: \", parametrosMB.shape)\n",
    "print()\n",
    "print(\"Tipo Variable precioVenta: \",type(precioVenta))\n",
    "print(\"Tipo Variable acabados: :\",type(acabados))\n",
    "print(\"Tipo Variable parámetros: :\",type(parametrosMB))"
   ]
  },
  {
   "cell_type": "markdown",
   "metadata": {},
   "source": [
    "#### Función de regresión lineal\n",
    "Funcion para el cálculo de una línea que servirá para realizar regresión lineal"
   ]
  },
  {
   "cell_type": "code",
   "execution_count": 137,
   "metadata": {},
   "outputs": [],
   "source": [
    "def regresionLineal(variables,parametros):\n",
    "    return tf.matmul(variables,parametros)"
   ]
  },
  {
   "cell_type": "markdown",
   "metadata": {},
   "source": [
    "Obteniendo valores de la variable dependiente Y en función de X, en una sola instrucción:"
   ]
  },
  {
   "cell_type": "code",
   "execution_count": 210,
   "metadata": {},
   "outputs": [
    {
     "data": {
      "text/plain": [
       "<tf.Tensor: shape=(1168, 1), dtype=float32, numpy=\n",
       "array([[-152379.44],\n",
       "       [-132646.9 ],\n",
       "       [-163341.95],\n",
       "       ...,\n",
       "       [-170409.12],\n",
       "       [-179310.69],\n",
       "       [-126434.83]], dtype=float32)>"
      ]
     },
     "execution_count": 210,
     "metadata": {},
     "output_type": "execute_result"
    }
   ],
   "source": [
    "yhat=regresionLineal(acabados,parametrosMB)\n",
    "yhat"
   ]
  },
  {
   "cell_type": "markdown",
   "metadata": {},
   "source": [
    "#### Función de costo\n",
    "Según la formula descrita en la parte inicial de este documento:"
   ]
  },
  {
   "cell_type": "code",
   "execution_count": 202,
   "metadata": {},
   "outputs": [],
   "source": [
    "def funcionCosto(yreal,yprediccion,tamanioM):\n",
    "    return tf.reduce_sum(tf.pow(yreal-yprediccion,2) / (2 * tamanioM))"
   ]
  },
  {
   "cell_type": "markdown",
   "metadata": {},
   "source": [
    "Prueba de la función costo con los parámetros aleatorios iniciales:"
   ]
  },
  {
   "cell_type": "code",
   "execution_count": 203,
   "metadata": {},
   "outputs": [
    {
     "data": {
      "text/plain": [
       "<tf.Tensor: shape=(), dtype=float32, numpy=275868160.0>"
      ]
     },
     "execution_count": 203,
     "metadata": {},
     "output_type": "execute_result"
    }
   ],
   "source": [
    "funcionCosto(yreal=precioVenta,yprediccion=yhat,tamanioM=numDatosEntrenamiento)"
   ]
  },
  {
   "cell_type": "markdown",
   "metadata": {},
   "source": [
    "Asignando nuevos valores a los parámetros m y b por medio de las fórmulas de GradienDescent (derivadas parciales para cada parámetro):  "
   ]
  },
  {
   "cell_type": "code",
   "execution_count": 188,
   "metadata": {},
   "outputs": [],
   "source": [
    "def vectorGradiente(lr,cantidaElementos, vectorParametrosMB):\n",
    "#m=parametrosMB[0]-(lr/numDatosEntrenamiento)*tf.reduce_sum(tf.multiply(yhat-precioVenta,acabados))\n",
    "#b=parametrosMB[1]-(lr/numDatosEntrenamiento)*tf.reduce_sum(yhat-precioVenta)\n",
    "\n",
    "    m=vectorParametrosMB[0]-tf.multiply(tf.divide(lr,cantidaElementos),\n",
    "                              tf.reduce_sum(tf.multiply(yhat-precioVenta,acabados)))\n",
    "\n",
    "    b=vectorParametrosMB[1]-tf.multiply(tf.divide(lr,cantidaElementos),\n",
    "                              tf.reduce_sum(yhat-precioVenta))\n",
    "    \n",
    "    return (m,b)\n"
   ]
  },
  {
   "cell_type": "code",
   "execution_count": 198,
   "metadata": {},
   "outputs": [
    {
     "name": "stdout",
     "output_type": "stream",
     "text": [
      "m:  tf.Tensor([-46279900.], shape=(1,), dtype=float32)\n",
      "b:  tf.Tensor([-215.78777], shape=(1,), dtype=float32)\n"
     ]
    }
   ],
   "source": [
    "lr=0.01\n",
    "\n",
    "v=vectorGradiente(lr=lr,cantidaElementos=numDatosEntrenamiento,vectorParametrosMB=parametrosMB)\n",
    "\n",
    "print(\"m: \",v[0])\n",
    "print(\"b: \",v[1])\n"
   ]
  },
  {
   "cell_type": "code",
   "execution_count": 199,
   "metadata": {},
   "outputs": [
    {
     "name": "stdout",
     "output_type": "stream",
     "text": [
      "m:  tf.Tensor([-92559800.], shape=(1,), dtype=float32)\n",
      "b:  tf.Tensor([-431.08478], shape=(1,), dtype=float32)\n"
     ]
    }
   ],
   "source": [
    "lr=0.01\n",
    "\n",
    "z=vectorGradiente(lr=lr,cantidaElementos=numDatosEntrenamiento,vectorParametrosMB=v)\n",
    "\n",
    "print(\"m: \",z[0])\n",
    "print(\"b: \",z[1])"
   ]
  },
  {
   "cell_type": "code",
   "execution_count": 196,
   "metadata": {},
   "outputs": [
    {
     "data": {
      "text/plain": [
       "<tf.Tensor: shape=(1168, 1), dtype=float32, numpy=\n",
       "array([[-9.6493592e+12],\n",
       "       [-8.3998021e+12],\n",
       "       [-1.0343557e+13],\n",
       "       ...,\n",
       "       [-1.0791084e+13],\n",
       "       [-1.1354774e+13],\n",
       "       [-8.0064225e+12]], dtype=float32)>"
      ]
     },
     "execution_count": 196,
     "metadata": {},
     "output_type": "execute_result"
    }
   ],
   "source": [
    "yhat2=regresionLineal(acabados,v)\n",
    "yhat2"
   ]
  },
  {
   "cell_type": "code",
   "execution_count": 200,
   "metadata": {},
   "outputs": [
    {
     "data": {
      "text/plain": [
       "<tf.Tensor: shape=(1168, 1), dtype=float32, numpy=\n",
       "array([[-1.9298718e+13],\n",
       "       [-1.6799604e+13],\n",
       "       [-2.0687115e+13],\n",
       "       ...,\n",
       "       [-2.1582169e+13],\n",
       "       [-2.2709547e+13],\n",
       "       [-1.6012845e+13]], dtype=float32)>"
      ]
     },
     "execution_count": 200,
     "metadata": {},
     "output_type": "execute_result"
    }
   ],
   "source": [
    "yhat3=regresionLineal(acabados,z)\n",
    "yhat3"
   ]
  },
  {
   "cell_type": "code",
   "execution_count": 204,
   "metadata": {},
   "outputs": [
    {
     "data": {
      "text/plain": [
       "<tf.Tensor: shape=(), dtype=float32, numpy=4.157231e+25>"
      ]
     },
     "execution_count": 204,
     "metadata": {},
     "output_type": "execute_result"
    }
   ],
   "source": [
    "funcionCosto(yreal=precioVenta,yprediccion=yhat2,tamanioM=numDatosEntrenamiento)"
   ]
  },
  {
   "cell_type": "code",
   "execution_count": 205,
   "metadata": {},
   "outputs": [
    {
     "data": {
      "text/plain": [
       "<tf.Tensor: shape=(), dtype=float32, numpy=1.6628924e+26>"
      ]
     },
     "execution_count": 205,
     "metadata": {},
     "output_type": "execute_result"
    }
   ],
   "source": [
    "funcionCosto(yreal=precioVenta,yprediccion=yhat,tamanioM=numDatosEntrenamiento)"
   ]
  },
  {
   "cell_type": "code",
   "execution_count": null,
   "metadata": {},
   "outputs": [],
   "source": [
    "def calcularGradiente(x0):\n",
    "    # Define x as a variable with an initial value of x0\n",
    "    x = tf.Variable(x0)\n",
    "    with tf.GradientTape() as tape:\n",
    "        tape.watch(x)\n",
    "        # Se define y\n",
    "        y = tf.multiply(x, x)\n",
    "        # Gradiente de Y respecto de x\n",
    "        return tape.gradient(y, x).numpy()\n",
    "\n",
    "# Compute and print gradients at x = -1, 1, and 0\n",
    "print(calcularGradiente(-1.0))\n",
    "print(calcularGradiente(1.0))\n",
    "print(calcularGradiente(0.0))"
   ]
  },
  {
   "cell_type": "markdown",
   "metadata": {},
   "source": []
  }
 ],
 "metadata": {
  "kernelspec": {
   "display_name": "Python 3",
   "language": "python",
   "name": "python3"
  },
  "language_info": {
   "codemirror_mode": {
    "name": "ipython",
    "version": 3
   },
   "file_extension": ".py",
   "mimetype": "text/x-python",
   "name": "python",
   "nbconvert_exporter": "python",
   "pygments_lexer": "ipython3",
   "version": "3.7.1"
  }
 },
 "nbformat": 4,
 "nbformat_minor": 2
}
